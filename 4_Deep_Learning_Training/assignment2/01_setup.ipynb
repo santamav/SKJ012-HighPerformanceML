{
 "cells": [
  {
   "cell_type": "markdown",
   "id": "9f316842-7ccf-4f84-b74b-9b5efca61732",
   "metadata": {},
   "source": [
    "## Install required packages"
   ]
  },
  {
   "cell_type": "code",
   "execution_count": null,
   "id": "848d41a5-0802-4164-ae42-1b7f89ec9e6a",
   "metadata": {},
   "outputs": [],
   "source": [
    "# Install required packages\n",
    "\n",
    "!pip install numpy matplotlib threadpoolctl imageio cython pickleshare icecream"
   ]
  },
  {
   "cell_type": "markdown",
   "id": "1494c92d-4fc7-43b7-aa51-596440edfe77",
   "metadata": {},
   "source": [
    "## Download the CIFAR-10 database"
   ]
  },
  {
   "cell_type": "code",
   "execution_count": null,
   "id": "04445e80-4946-491c-9732-e99b636deaca",
   "metadata": {},
   "outputs": [],
   "source": [
    "# This downloads the CIFAR-10 dataset to sjk012/datasets if it has not been already downloaded\n",
    "\n",
    "!bash sjk012/bin/get_datasets.sh"
   ]
  },
  {
   "cell_type": "markdown",
   "id": "a28242d1-df1d-4398-a754-037a51dfdd9a",
   "metadata": {},
   "source": [
    "## Install the BLIS and OpenBLAS libraries"
   ]
  },
  {
   "cell_type": "code",
   "execution_count": null,
   "id": "20b6993b-c5e9-4a89-9b4c-d56de625014b",
   "metadata": {},
   "outputs": [],
   "source": [
    "import os\n",
    "from icecream import ic\n",
    "# Get original notebook path and LD_LIBRARY_PATH\n",
    "notebook_path = ic(os.getcwd())\n",
    "original_ld_library_path = ic(os.environ.get('LD_LIBRARY_PATH'))\n",
    "# Software and install_prefix as defined in 01_setup.ipynb\n",
    "software_path = ic(os.path.join(notebook_path, 'sjk012', 'software'))\n",
    "install_prefix = ic(os.path.join(software_path, 'opt'))"
   ]
  },
  {
   "cell_type": "code",
   "execution_count": null,
   "id": "b96a4f32-7de9-40ec-ac05-4ced7b890242",
   "metadata": {},
   "outputs": [],
   "source": [
    "# Download the BLIS and OpenBLAS libraries\n",
    "import shutil\n",
    "\n",
    "software_path = os.path.join(notebook_path, 'sjk012', 'software')\n",
    "\n",
    "if os.path.exists(software_path):\n",
    "    shutil.rmtree(software_path)\n",
    "os.mkdir(software_path)\n",
    "open(os.path.join(software_path, '.nobackup'), 'a').close()\n",
    "\n",
    "os.chdir(software_path)\n",
    "!git clone --depth=1 https://github.com/flame/blis.git \n",
    "!git clone --depth=1 https://github.com/OpenMathLib/OpenBLAS.git\n",
    "\n",
    "# Back to the notebook path\n",
    "os.chdir(notebook_path)"
   ]
  },
  {
   "cell_type": "code",
   "execution_count": null,
   "id": "c60a5d82-5147-4370-bf5f-541f4dc4b003",
   "metadata": {},
   "outputs": [],
   "source": [
    "# Prefix where to install the BLIS and OpenBLAS libraries\n",
    "install_prefix=os.path.join(software_path, 'opt')\n",
    "if not os.path.exists(install_prefix):\n",
    "    os.mkdir(install_prefix)\n",
    "%env PREFIX $install_prefix"
   ]
  },
  {
   "cell_type": "code",
   "execution_count": null,
   "id": "7c2eb061-d4f4-4d73-911e-d0841d3c02e7",
   "metadata": {},
   "outputs": [],
   "source": [
    "# BLIS installation\n",
    "\n",
    "os.chdir(software_path)\n",
    "\n",
    "%cd blis/\n",
    "!./configure --prefix=$PREFIX/blis --enable-cblas --enable-threading=openmp auto 2>&1 | awk 'NR%10==1 {printf(\".\");} END {printf(\"\\n\");}'\n",
    "!make -j4 install 2>&1 | awk 'NR%10==1 {printf(\".\");} END {printf(\"\\n\");}'\n",
    "%cd ..\n",
    "\n",
    "# Back to the notebook path\n",
    "os.chdir(notebook_path)"
   ]
  },
  {
   "cell_type": "code",
   "execution_count": null,
   "id": "214d7dd8-026c-4333-9532-73efec4e0415",
   "metadata": {},
   "outputs": [],
   "source": [
    "# OpenBLAS installation\n",
    "\n",
    "os.chdir(software_path)\n",
    "\n",
    "%cd OpenBLAS\n",
    "!make -j4 2>&1 | awk 'NR%10==1 {printf(\".\");} END {printf(\"\\n\");}'\n",
    "!make PREFIX=$PREFIX/openblas install 2>&1 | awk 'NR%10==1 {printf(\".\");} END {printf(\"\\n\");}'\n",
    "%cd ..\n",
    "\n",
    "# Back to the notebook path\n",
    "os.chdir(notebook_path)"
   ]
  },
  {
   "cell_type": "code",
   "execution_count": null,
   "id": "fa81282a-da06-417f-9064-27277b6e39eb",
   "metadata": {},
   "outputs": [],
   "source": []
  }
 ],
 "metadata": {
  "kernelspec": {
   "display_name": "Python 3 (ipykernel)",
   "language": "python",
   "name": "python3"
  },
  "language_info": {
   "codemirror_mode": {
    "name": "ipython",
    "version": 3
   },
   "file_extension": ".py",
   "mimetype": "text/x-python",
   "name": "python",
   "nbconvert_exporter": "python",
   "pygments_lexer": "ipython3",
   "version": "3.11.8"
  }
 },
 "nbformat": 4,
 "nbformat_minor": 5
}
