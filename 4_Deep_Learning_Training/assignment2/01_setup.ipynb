{
 "cells": [
  {
   "cell_type": "markdown",
   "id": "9f316842-7ccf-4f84-b74b-9b5efca61732",
   "metadata": {},
   "source": [
    "## Install required packages"
   ]
  },
  {
   "cell_type": "code",
   "execution_count": 1,
   "id": "848d41a5-0802-4164-ae42-1b7f89ec9e6a",
   "metadata": {},
   "outputs": [
    {
     "name": "stdout",
     "output_type": "stream",
     "text": [
      "Requirement already satisfied: numpy in /home/vicentamen/miniconda3/lib/python3.11/site-packages (1.26.2)\n",
      "Collecting matplotlib\n",
      "  Downloading matplotlib-3.9.0-cp311-cp311-manylinux_2_17_x86_64.manylinux2014_x86_64.whl.metadata (11 kB)\n",
      "Requirement already satisfied: threadpoolctl in /home/vicentamen/miniconda3/lib/python3.11/site-packages (3.2.0)\n",
      "Collecting imageio\n",
      "  Downloading imageio-2.34.1-py3-none-any.whl.metadata (4.9 kB)\n",
      "Requirement already satisfied: cython in /home/vicentamen/miniconda3/lib/python3.11/site-packages (3.0.8)\n",
      "Requirement already satisfied: pickleshare in /home/vicentamen/miniconda3/lib/python3.11/site-packages (0.7.5)\n",
      "Collecting icecream\n",
      "  Using cached icecream-2.1.3-py2.py3-none-any.whl.metadata (1.4 kB)\n",
      "Collecting contourpy>=1.0.1 (from matplotlib)\n",
      "  Downloading contourpy-1.2.1-cp311-cp311-manylinux_2_17_x86_64.manylinux2014_x86_64.whl.metadata (5.8 kB)\n",
      "Collecting cycler>=0.10 (from matplotlib)\n",
      "  Using cached cycler-0.12.1-py3-none-any.whl.metadata (3.8 kB)\n",
      "Collecting fonttools>=4.22.0 (from matplotlib)\n",
      "  Downloading fonttools-4.51.0-cp311-cp311-manylinux_2_17_x86_64.manylinux2014_x86_64.whl.metadata (159 kB)\n",
      "\u001b[2K     \u001b[90m━━━━━━━━━━━━━━━━━━━━━━━━━━━━━━━━━━━━━━━\u001b[0m \u001b[32m159.5/159.5 kB\u001b[0m \u001b[31m4.9 MB/s\u001b[0m eta \u001b[36m0:00:00\u001b[0m\n",
      "\u001b[?25hCollecting kiwisolver>=1.3.1 (from matplotlib)\n",
      "  Using cached kiwisolver-1.4.5-cp311-cp311-manylinux_2_17_x86_64.manylinux2014_x86_64.whl.metadata (6.4 kB)\n",
      "Requirement already satisfied: packaging>=20.0 in /home/vicentamen/miniconda3/lib/python3.11/site-packages (from matplotlib) (23.1)\n",
      "Collecting pillow>=8 (from matplotlib)\n",
      "  Downloading pillow-10.3.0-cp311-cp311-manylinux_2_28_x86_64.whl.metadata (9.2 kB)\n",
      "Collecting pyparsing>=2.3.1 (from matplotlib)\n",
      "  Using cached pyparsing-3.1.2-py3-none-any.whl.metadata (5.1 kB)\n",
      "Requirement already satisfied: python-dateutil>=2.7 in /home/vicentamen/miniconda3/lib/python3.11/site-packages (from matplotlib) (2.9.0)\n",
      "Collecting colorama>=0.3.9 (from icecream)\n",
      "  Using cached colorama-0.4.6-py2.py3-none-any.whl.metadata (17 kB)\n",
      "Requirement already satisfied: pygments>=2.2.0 in /home/vicentamen/miniconda3/lib/python3.11/site-packages (from icecream) (2.18.0)\n",
      "Requirement already satisfied: executing>=0.3.1 in /home/vicentamen/miniconda3/lib/python3.11/site-packages (from icecream) (2.0.1)\n",
      "Requirement already satisfied: asttokens>=2.0.1 in /home/vicentamen/miniconda3/lib/python3.11/site-packages (from icecream) (2.4.1)\n",
      "Requirement already satisfied: six>=1.12.0 in /home/vicentamen/miniconda3/lib/python3.11/site-packages (from asttokens>=2.0.1->icecream) (1.16.0)\n",
      "Downloading matplotlib-3.9.0-cp311-cp311-manylinux_2_17_x86_64.manylinux2014_x86_64.whl (8.3 MB)\n",
      "\u001b[2K   \u001b[90m━━━━━━━━━━━━━━━━━━━━━━━━━━━━━━━━━━━━━━━━\u001b[0m \u001b[32m8.3/8.3 MB\u001b[0m \u001b[31m15.3 MB/s\u001b[0m eta \u001b[36m0:00:00\u001b[0m00:01\u001b[0m00:01\u001b[0m\n",
      "\u001b[?25hDownloading imageio-2.34.1-py3-none-any.whl (313 kB)\n",
      "\u001b[2K   \u001b[90m━━━━━━━━━━━━━━━━━━━━━━━━━━━━━━━━━━━━━━━━\u001b[0m \u001b[32m313.5/313.5 kB\u001b[0m \u001b[31m16.8 MB/s\u001b[0m eta \u001b[36m0:00:00\u001b[0m\n",
      "\u001b[?25hUsing cached icecream-2.1.3-py2.py3-none-any.whl (8.4 kB)\n",
      "Using cached colorama-0.4.6-py2.py3-none-any.whl (25 kB)\n",
      "Downloading contourpy-1.2.1-cp311-cp311-manylinux_2_17_x86_64.manylinux2014_x86_64.whl (306 kB)\n",
      "\u001b[2K   \u001b[90m━━━━━━━━━━━━━━━━━━━━━━━━━━━━━━━━━━━━━━━━\u001b[0m \u001b[32m306.0/306.0 kB\u001b[0m \u001b[31m3.8 MB/s\u001b[0m eta \u001b[36m0:00:00\u001b[0ma \u001b[36m0:00:01\u001b[0m\n",
      "\u001b[?25hUsing cached cycler-0.12.1-py3-none-any.whl (8.3 kB)\n",
      "Downloading fonttools-4.51.0-cp311-cp311-manylinux_2_17_x86_64.manylinux2014_x86_64.whl (4.9 MB)\n",
      "\u001b[2K   \u001b[90m━━━━━━━━━━━━━━━━━━━━━━━━━━━━━━━━━━━━━━━━\u001b[0m \u001b[32m4.9/4.9 MB\u001b[0m \u001b[31m10.1 MB/s\u001b[0m eta \u001b[36m0:00:00\u001b[0m00:01\u001b[0m00:01\u001b[0m\n",
      "\u001b[?25hUsing cached kiwisolver-1.4.5-cp311-cp311-manylinux_2_17_x86_64.manylinux2014_x86_64.whl (1.4 MB)\n",
      "Downloading pillow-10.3.0-cp311-cp311-manylinux_2_28_x86_64.whl (4.5 MB)\n",
      "\u001b[2K   \u001b[90m━━━━━━━━━━━━━━━━━━━━━━━━━━━━━━━━━━━━━━━━\u001b[0m \u001b[32m4.5/4.5 MB\u001b[0m \u001b[31m10.5 MB/s\u001b[0m eta \u001b[36m0:00:00\u001b[0m00:01\u001b[0m00:01\u001b[0m\n",
      "\u001b[?25hUsing cached pyparsing-3.1.2-py3-none-any.whl (103 kB)\n",
      "Installing collected packages: pyparsing, pillow, kiwisolver, fonttools, cycler, contourpy, colorama, matplotlib, imageio, icecream\n",
      "Successfully installed colorama-0.4.6 contourpy-1.2.1 cycler-0.12.1 fonttools-4.51.0 icecream-2.1.3 imageio-2.34.1 kiwisolver-1.4.5 matplotlib-3.9.0 pillow-10.3.0 pyparsing-3.1.2\n"
     ]
    }
   ],
   "source": [
    "# Install required packages\n",
    "\n",
    "!pip install numpy matplotlib threadpoolctl imageio cython pickleshare icecream"
   ]
  },
  {
   "cell_type": "markdown",
   "id": "1494c92d-4fc7-43b7-aa51-596440edfe77",
   "metadata": {},
   "source": [
    "## Download the CIFAR-10 database"
   ]
  },
  {
   "cell_type": "code",
   "execution_count": 2,
   "id": "04445e80-4946-491c-9732-e99b636deaca",
   "metadata": {},
   "outputs": [
    {
     "name": "stdout",
     "output_type": "stream",
     "text": [
      "The dataset has already been downloaded. Nothing to be done.\n"
     ]
    }
   ],
   "source": [
    "# This downloads the CIFAR-10 dataset to sjk012/datasets if it has not been already downloaded\n",
    "\n",
    "!bash sjk012/bin/get_datasets.sh"
   ]
  },
  {
   "cell_type": "markdown",
   "id": "a28242d1-df1d-4398-a754-037a51dfdd9a",
   "metadata": {},
   "source": [
    "## Install the BLIS and OpenBLAS libraries"
   ]
  },
  {
   "cell_type": "code",
   "execution_count": 3,
   "id": "20b6993b-c5e9-4a89-9b4c-d56de625014b",
   "metadata": {},
   "outputs": [
    {
     "name": "stderr",
     "output_type": "stream",
     "text": [
      "ic| os.getcwd(): ('/home/vicentamen/Documents/Intelligent '\n",
      "                  'Systems/SKJ012-HighPerformanceML/4_Deep_Learning_Training/assignment2')\n",
      "ic| os.environ.get('LD_LIBRARY_PATH'): None\n",
      "ic| os.path.join(notebook_path, 'sjk012', 'software'): ('/home/vicentamen/Documents/Intelligent '\n",
      "                                                        'Systems/SKJ012-HighPerformanceML/4_Deep_Learning_Training/assignment2/sjk012/software')\n",
      "ic| os.path.join(software_path, 'opt'): ('/home/vicentamen/Documents/Intelligent '\n",
      "                                         'Systems/SKJ012-HighPerformanceML/4_Deep_Learning_Training/assignment2/sjk012/software/opt')\n"
     ]
    }
   ],
   "source": [
    "import os\n",
    "from icecream import ic\n",
    "# Get original notebook path and LD_LIBRARY_PATH\n",
    "notebook_path = ic(os.getcwd())\n",
    "original_ld_library_path = ic(os.environ.get('LD_LIBRARY_PATH'))\n",
    "# Software and install_prefix as defined in 01_setup.ipynb\n",
    "software_path = ic(os.path.join(notebook_path, 'sjk012', 'software'))\n",
    "install_prefix = ic(os.path.join(software_path, 'opt'))"
   ]
  },
  {
   "cell_type": "code",
   "execution_count": 4,
   "id": "b96a4f32-7de9-40ec-ac05-4ced7b890242",
   "metadata": {},
   "outputs": [
    {
     "name": "stdout",
     "output_type": "stream",
     "text": [
      "Cloning into 'blis'...\n",
      "remote: Enumerating objects: 2675, done.\u001b[K\n",
      "remote: Counting objects: 100% (2675/2675), done.\u001b[K\n",
      "remote: Compressing objects: 100% (1555/1555), done.\u001b[K\n",
      "remote: Total 2675 (delta 1651), reused 1611 (delta 1090), pack-reused 0\u001b[K\n",
      "Receiving objects: 100% (2675/2675), 15.20 MiB | 2.71 MiB/s, done.\n",
      "Resolving deltas: 100% (1651/1651), done.\n",
      "Cloning into 'OpenBLAS'...\n",
      "remote: Enumerating objects: 12364, done.\u001b[K\n",
      "remote: Counting objects: 100% (12364/12364), done.\u001b[K\n",
      "remote: Compressing objects: 100% (3331/3331), done.\u001b[K\n",
      "remote: Total 12364 (delta 10338), reused 9455 (delta 8995), pack-reused 0\u001b[K\n",
      "Receiving objects: 100% (12364/12364), 14.89 MiB | 6.82 MiB/s, done.\n",
      "Resolving deltas: 100% (10338/10338), done.\n",
      "Updating files: 100% (12408/12408), done.\n"
     ]
    }
   ],
   "source": [
    "# Download the BLIS and OpenBLAS libraries\n",
    "import shutil\n",
    "\n",
    "software_path = os.path.join(notebook_path, 'sjk012', 'software')\n",
    "\n",
    "if os.path.exists(software_path):\n",
    "    shutil.rmtree(software_path)\n",
    "os.mkdir(software_path)\n",
    "open(os.path.join(software_path, '.nobackup'), 'a').close()\n",
    "\n",
    "os.chdir(software_path)\n",
    "!git clone --depth=1 https://github.com/flame/blis.git \n",
    "!git clone --depth=1 https://github.com/OpenMathLib/OpenBLAS.git\n",
    "\n",
    "# Back to the notebook path\n",
    "os.chdir(notebook_path)"
   ]
  },
  {
   "cell_type": "code",
   "execution_count": 5,
   "id": "c60a5d82-5147-4370-bf5f-541f4dc4b003",
   "metadata": {},
   "outputs": [
    {
     "name": "stdout",
     "output_type": "stream",
     "text": [
      "env: PREFIX=/home/vicentamen/Documents/Intelligent Systems/SKJ012-HighPerformanceML/4_Deep_Learning_Training/assignment2/sjk012/software/opt\n"
     ]
    }
   ],
   "source": [
    "# Prefix where to install the BLIS and OpenBLAS libraries\n",
    "install_prefix=os.path.join(software_path, 'opt')\n",
    "if not os.path.exists(install_prefix):\n",
    "    os.mkdir(install_prefix)\n",
    "%env PREFIX $install_prefix"
   ]
  },
  {
   "cell_type": "code",
   "execution_count": 6,
   "id": "7c2eb061-d4f4-4d73-911e-d0841d3c02e7",
   "metadata": {},
   "outputs": [
    {
     "name": "stdout",
     "output_type": "stream",
     "text": [
      "/home/vicentamen/Documents/Intelligent Systems/SKJ012-HighPerformanceML/4_Deep_Learning_Training/assignment2/sjk012/software/blis\n"
     ]
    },
    {
     "name": "stdout",
     "output_type": "stream",
     "text": [
      "..........................................\n",
      ".\n",
      "/home/vicentamen/Documents/Intelligent Systems/SKJ012-HighPerformanceML/4_Deep_Learning_Training/assignment2/sjk012/software\n"
     ]
    }
   ],
   "source": [
    "# BLIS installation\n",
    "\n",
    "os.chdir(software_path)\n",
    "\n",
    "%cd blis/\n",
    "!./configure --prefix=$PREFIX/blis --enable-cblas --enable-threading=openmp auto 2>&1 | awk 'NR%10==1 {printf(\".\");} END {printf(\"\\n\");}'\n",
    "!make -j4 install 2>&1 | awk 'NR%10==1 {printf(\".\");} END {printf(\"\\n\");}'\n",
    "%cd ..\n",
    "\n",
    "# Back to the notebook path\n",
    "os.chdir(notebook_path)"
   ]
  },
  {
   "cell_type": "code",
   "execution_count": 7,
   "id": "214d7dd8-026c-4333-9532-73efec4e0415",
   "metadata": {},
   "outputs": [
    {
     "name": "stdout",
     "output_type": "stream",
     "text": [
      "/home/vicentamen/Documents/Intelligent Systems/SKJ012-HighPerformanceML/4_Deep_Learning_Training/assignment2/sjk012/software/OpenBLAS\n"
     ]
    }
   ],
   "source": [
    "# OpenBLAS installation\n",
    "\n",
    "os.chdir(software_path)\n",
    "\n",
    "%cd OpenBLAS\n",
    "!make -j4 2>&1 | awk 'NR%10==1 {printf(\".\");} END {printf(\"\\n\");}'\n",
    "!make PREFIX=$PREFIX/openblas install 2>&1 | awk 'NR%10==1 {printf(\".\");} END {printf(\"\\n\");}'\n",
    "%cd ..\n",
    "\n",
    "# Back to the notebook path\n",
    "os.chdir(notebook_path)"
   ]
  },
  {
   "cell_type": "code",
   "execution_count": null,
   "id": "fa81282a-da06-417f-9064-27277b6e39eb",
   "metadata": {},
   "outputs": [],
   "source": []
  }
 ],
 "metadata": {
  "kernelspec": {
   "display_name": "Python 3 (ipykernel)",
   "language": "python",
   "name": "python3"
  },
  "language_info": {
   "codemirror_mode": {
    "name": "ipython",
    "version": 3
   },
   "file_extension": ".py",
   "mimetype": "text/x-python",
   "name": "python",
   "nbconvert_exporter": "python",
   "pygments_lexer": "ipython3",
   "version": "3.11.5"
  }
 },
 "nbformat": 4,
 "nbformat_minor": 5
}
