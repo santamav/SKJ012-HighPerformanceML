{
 "cells": [
  {
   "cell_type": "markdown",
   "id": "9f316842-7ccf-4f84-b74b-9b5efca61732",
   "metadata": {},
   "source": [
    "## Install required packages"
   ]
  },
  {
   "cell_type": "code",
   "execution_count": 1,
   "id": "848d41a5-0802-4164-ae42-1b7f89ec9e6a",
   "metadata": {},
   "outputs": [
    {
     "name": "stdout",
     "output_type": "stream",
     "text": [
      "Requirement already satisfied: numpy in /home/vicentamen/miniconda3/lib/python3.11/site-packages (1.26.2)\n",
      "Requirement already satisfied: matplotlib in /home/vicentamen/miniconda3/lib/python3.11/site-packages (3.9.0)\n",
      "Requirement already satisfied: threadpoolctl in /home/vicentamen/miniconda3/lib/python3.11/site-packages (3.2.0)\n",
      "Requirement already satisfied: imageio in /home/vicentamen/miniconda3/lib/python3.11/site-packages (2.34.1)\n",
      "Requirement already satisfied: cython in /home/vicentamen/miniconda3/lib/python3.11/site-packages (3.0.8)\n",
      "Requirement already satisfied: pickleshare in /home/vicentamen/miniconda3/lib/python3.11/site-packages (0.7.5)\n",
      "Requirement already satisfied: icecream in /home/vicentamen/miniconda3/lib/python3.11/site-packages (2.1.3)\n",
      "Requirement already satisfied: contourpy>=1.0.1 in /home/vicentamen/miniconda3/lib/python3.11/site-packages (from matplotlib) (1.2.1)\n",
      "Requirement already satisfied: cycler>=0.10 in /home/vicentamen/miniconda3/lib/python3.11/site-packages (from matplotlib) (0.12.1)\n",
      "Requirement already satisfied: fonttools>=4.22.0 in /home/vicentamen/miniconda3/lib/python3.11/site-packages (from matplotlib) (4.51.0)\n",
      "Requirement already satisfied: kiwisolver>=1.3.1 in /home/vicentamen/miniconda3/lib/python3.11/site-packages (from matplotlib) (1.4.5)\n",
      "Requirement already satisfied: packaging>=20.0 in /home/vicentamen/miniconda3/lib/python3.11/site-packages (from matplotlib) (23.1)\n",
      "Requirement already satisfied: pillow>=8 in /home/vicentamen/miniconda3/lib/python3.11/site-packages (from matplotlib) (10.3.0)\n",
      "Requirement already satisfied: pyparsing>=2.3.1 in /home/vicentamen/miniconda3/lib/python3.11/site-packages (from matplotlib) (3.1.2)\n",
      "Requirement already satisfied: python-dateutil>=2.7 in /home/vicentamen/miniconda3/lib/python3.11/site-packages (from matplotlib) (2.9.0)\n",
      "Requirement already satisfied: colorama>=0.3.9 in /home/vicentamen/miniconda3/lib/python3.11/site-packages (from icecream) (0.4.6)\n",
      "Requirement already satisfied: pygments>=2.2.0 in /home/vicentamen/miniconda3/lib/python3.11/site-packages (from icecream) (2.18.0)\n",
      "Requirement already satisfied: executing>=0.3.1 in /home/vicentamen/miniconda3/lib/python3.11/site-packages (from icecream) (2.0.1)\n",
      "Requirement already satisfied: asttokens>=2.0.1 in /home/vicentamen/miniconda3/lib/python3.11/site-packages (from icecream) (2.4.1)\n",
      "Requirement already satisfied: six>=1.12.0 in /home/vicentamen/miniconda3/lib/python3.11/site-packages (from asttokens>=2.0.1->icecream) (1.16.0)\n"
     ]
    }
   ],
   "source": [
    "# Install required packages\n",
    "\n",
    "!pip install numpy matplotlib threadpoolctl imageio cython pickleshare icecream"
   ]
  },
  {
   "cell_type": "markdown",
   "id": "1494c92d-4fc7-43b7-aa51-596440edfe77",
   "metadata": {},
   "source": [
    "## Download the CIFAR-10 database"
   ]
  },
  {
   "cell_type": "code",
   "execution_count": 2,
   "id": "04445e80-4946-491c-9732-e99b636deaca",
   "metadata": {},
   "outputs": [
    {
     "name": "stdout",
     "output_type": "stream",
     "text": [
      "The dataset has already been downloaded. Nothing to be done.\n"
     ]
    }
   ],
   "source": [
    "# This downloads the CIFAR-10 dataset to sjk012/datasets if it has not been already downloaded\n",
    "\n",
    "!bash sjk012/bin/get_datasets.sh"
   ]
  },
  {
   "cell_type": "markdown",
   "id": "a28242d1-df1d-4398-a754-037a51dfdd9a",
   "metadata": {},
   "source": [
    "## Install the BLIS and OpenBLAS libraries"
   ]
  },
  {
   "cell_type": "code",
   "execution_count": 3,
   "id": "20b6993b-c5e9-4a89-9b4c-d56de625014b",
   "metadata": {},
   "outputs": [
    {
     "name": "stderr",
     "output_type": "stream",
     "text": [
      "ic| os.getcwd(): '/home/vicentamen/Documents/Intelligent_Systems/SKJ012-HighPerformanceML/4_Deep_Learning_Training/assignment2_Vicent_Santamarta'\n",
      "ic| os.environ.get('LD_LIBRARY_PATH'): (':/home/vicentamen/Documents/Intelligent '\n",
      "                                        'Systems/SKJ012-HighPerformanceML/4_Deep_Learning_Training/assignment2/sjk012/software/OpenBLAS')\n",
      "ic| os.path.join(notebook_path, 'sjk012', 'software'): '/home/vicentamen/Documents/Intelligent_Systems/SKJ012-HighPerformanceML/4_Deep_Learning_Training/assignment2_Vicent_Santamarta/sjk012/software'\n",
      "ic| os.path.join(software_path, 'opt'): '/home/vicentamen/Documents/Intelligent_Systems/SKJ012-HighPerformanceML/4_Deep_Learning_Training/assignment2_Vicent_Santamarta/sjk012/software/opt'\n"
     ]
    }
   ],
   "source": [
    "import os\n",
    "from icecream import ic\n",
    "# Get original notebook path and LD_LIBRARY_PATH\n",
    "notebook_path = ic(os.getcwd())\n",
    "original_ld_library_path = ic(os.environ.get('LD_LIBRARY_PATH'))\n",
    "# Software and install_prefix as defined in 01_setup.ipynb\n",
    "software_path = ic(os.path.join(notebook_path, 'sjk012', 'software'))\n",
    "install_prefix = ic(os.path.join(software_path, 'opt'))"
   ]
  },
  {
   "cell_type": "code",
   "execution_count": 4,
   "id": "b96a4f32-7de9-40ec-ac05-4ced7b890242",
   "metadata": {},
   "outputs": [
    {
     "name": "stdout",
     "output_type": "stream",
     "text": [
      "Cloning into 'blis'...\n",
      "remote: Enumerating objects: 2675, done.\u001b[K\n",
      "remote: Counting objects: 100% (2675/2675), done.\u001b[K\n",
      "remote: Compressing objects: 100% (1555/1555), done.\u001b[K\n",
      "remote: Total 2675 (delta 1651), reused 1610 (delta 1090), pack-reused 0\u001b[K\n",
      "Receiving objects: 100% (2675/2675), 15.20 MiB | 12.73 MiB/s, done.\n",
      "Resolving deltas: 100% (1651/1651), done.\n",
      "Cloning into 'OpenBLAS'...\n",
      "remote: Enumerating objects: 12383, done.\u001b[K\n",
      "remote: Counting objects: 100% (12383/12383), done.\u001b[K\n",
      "remote: Compressing objects: 100% (3345/3345), done.\u001b[K\n",
      "remote: Total 12383 (delta 10341), reused 9503 (delta 8999), pack-reused 0\u001b[K\n",
      "Receiving objects: 100% (12383/12383), 14.91 MiB | 9.51 MiB/s, done.\n",
      "Resolving deltas: 100% (10341/10341), done.\n",
      "Updating files: 100% (12424/12424), done.\n"
     ]
    }
   ],
   "source": [
    "# Download the BLIS and OpenBLAS libraries\n",
    "import shutil\n",
    "\n",
    "software_path = os.path.join(notebook_path, 'sjk012', 'software')\n",
    "\n",
    "if os.path.exists(software_path):\n",
    "    shutil.rmtree(software_path)\n",
    "os.mkdir(software_path)\n",
    "open(os.path.join(software_path, '.nobackup'), 'a').close()\n",
    "\n",
    "os.chdir(software_path)\n",
    "!git clone --depth=1 https://github.com/flame/blis.git \n",
    "!git clone --depth=1 https://github.com/OpenMathLib/OpenBLAS.git\n",
    "\n",
    "# Back to the notebook path\n",
    "os.chdir(notebook_path)"
   ]
  },
  {
   "cell_type": "code",
   "execution_count": 5,
   "id": "c60a5d82-5147-4370-bf5f-541f4dc4b003",
   "metadata": {},
   "outputs": [
    {
     "name": "stdout",
     "output_type": "stream",
     "text": [
      "env: PREFIX=/home/vicentamen/Documents/Intelligent_Systems/SKJ012-HighPerformanceML/4_Deep_Learning_Training/assignment2_Vicent_Santamarta/sjk012/software/opt\n"
     ]
    }
   ],
   "source": [
    "# Prefix where to install the BLIS and OpenBLAS libraries\n",
    "install_prefix=os.path.join(software_path, 'opt')\n",
    "if not os.path.exists(install_prefix):\n",
    "    os.mkdir(install_prefix)\n",
    "%env PREFIX $install_prefix"
   ]
  },
  {
   "cell_type": "code",
   "execution_count": 6,
   "id": "7c2eb061-d4f4-4d73-911e-d0841d3c02e7",
   "metadata": {},
   "outputs": [
    {
     "name": "stdout",
     "output_type": "stream",
     "text": [
      "/home/vicentamen/Documents/Intelligent_Systems/SKJ012-HighPerformanceML/4_Deep_Learning_Training/assignment2_Vicent_Santamarta/sjk012/software/blis\n"
     ]
    },
    {
     "name": "stdout",
     "output_type": "stream",
     "text": [
      "............\n",
      ".........................................................................\n",
      "/home/vicentamen/Documents/Intelligent_Systems/SKJ012-HighPerformanceML/4_Deep_Learning_Training/assignment2_Vicent_Santamarta/sjk012/software\n"
     ]
    }
   ],
   "source": [
    "# BLIS installation\n",
    "\n",
    "os.chdir(software_path)\n",
    "\n",
    "%cd blis/\n",
    "!./configure --prefix=$PREFIX/blis --enable-cblas --enable-threading=openmp auto 2>&1 | awk 'NR%10==1 {printf(\".\");} END {printf(\"\\n\");}'\n",
    "!make -j4 install 2>&1 | awk 'NR%10==1 {printf(\".\");} END {printf(\"\\n\");}'\n",
    "%cd ..\n",
    "\n",
    "# Back to the notebook path\n",
    "os.chdir(notebook_path)"
   ]
  },
  {
   "cell_type": "code",
   "execution_count": 7,
   "id": "214d7dd8-026c-4333-9532-73efec4e0415",
   "metadata": {},
   "outputs": [
    {
     "name": "stdout",
     "output_type": "stream",
     "text": [
      "/home/vicentamen/Documents/Intelligent_Systems/SKJ012-HighPerformanceML/4_Deep_Learning_Training/assignment2_Vicent_Santamarta/sjk012/software/OpenBLAS\n"
     ]
    },
    {
     "name": "stdout",
     "output_type": "stream",
     "text": [
      "................................................................................................................................................................................................................................................................................................................................................................................................................................................................................................................................................................................................................................................................................................................................................................................................................................................................................................................................................................................................................................................................................................................................................................................................................................................................................................................................................................................................................................................................................................................................................................\n",
      "..\n",
      "/home/vicentamen/Documents/Intelligent_Systems/SKJ012-HighPerformanceML/4_Deep_Learning_Training/assignment2_Vicent_Santamarta/sjk012/software\n"
     ]
    }
   ],
   "source": [
    "# OpenBLAS installation\n",
    "\n",
    "os.chdir(software_path)\n",
    "\n",
    "%cd OpenBLAS\n",
    "!make -j4 2>&1 | awk 'NR%10==1 {printf(\".\");} END {printf(\"\\n\");}'\n",
    "!make PREFIX=$PREFIX/openblas install 2>&1 | awk 'NR%10==1 {printf(\".\");} END {printf(\"\\n\");}'\n",
    "%cd ..\n",
    "\n",
    "# Back to the notebook path\n",
    "os.chdir(notebook_path)"
   ]
  },
  {
   "cell_type": "code",
   "execution_count": null,
   "id": "fa81282a-da06-417f-9064-27277b6e39eb",
   "metadata": {},
   "outputs": [],
   "source": []
  }
 ],
 "metadata": {
  "kernelspec": {
   "display_name": "Python 3 (ipykernel)",
   "language": "python",
   "name": "python3"
  },
  "language_info": {
   "codemirror_mode": {
    "name": "ipython",
    "version": 3
   },
   "file_extension": ".py",
   "mimetype": "text/x-python",
   "name": "python",
   "nbconvert_exporter": "python",
   "pygments_lexer": "ipython3",
   "version": "3.11.5"
  }
 },
 "nbformat": 4,
 "nbformat_minor": 5
}
